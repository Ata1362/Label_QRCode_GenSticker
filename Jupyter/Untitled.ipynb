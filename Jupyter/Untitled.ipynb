{
 "cells": [
  {
   "cell_type": "code",
   "execution_count": 8,
   "metadata": {},
   "outputs": [],
   "source": [
    "import tkinter as tk\n",
    "from tkinter import filedialog\n",
    "from tkinter import messagebox\n",
    "import cv2 as cv\n",
    "from PIL import Image\n",
    "import numpy as np\n",
    "import pandas as pd\n",
    "import os\n",
    "from os import listdir\n",
    "from os.path import isfile, join\n",
    "import qrcode"
   ]
  },
  {
   "cell_type": "code",
   "execution_count": null,
   "metadata": {},
   "outputs": [],
   "source": [
    "def draw_roi(path):\n",
    "    label_draft = cv.imread(path)\n",
    "    QRCode = qrcode.make('This is a sample QR-Code for the template')\n",
    "    QRCode.save(\"sample.png\")\n",
    "    qr_code = Image.open(\"sample.png\")\n",
    "\n",
    "    roi_position = cv.selectROIs(label_draft)\n",
    "    print(\"ROI Position is: {}\".format(roi_position))\n",
    "    label_draft = Image.open(path)\n",
    "    dim = max([roi_position[2], roi_position[3]])\n",
    "    print(\"before:\" + str(qr_code.size))\n",
    "    qr_code = qr_code.resize((dim, dim))\n",
    "    print(\"after:\" + str(qr_code.size))\n",
    "    label_draft.paste(qr_code, (roi_position[0], roi_position[1]))\n",
    "    label_draft.show()\n",
    "    cv.destroyWindow(\"ROI selector\")\n",
    "    return roi_position, dim"
   ]
  },
  {
   "cell_type": "code",
   "execution_count": null,
   "metadata": {},
   "outputs": [],
   "source": [
    "def UploadAction(event=None):\n",
    "    global filename, fileisloaded\n",
    "    filename = filedialog.askopenfilename()\n",
    "    if filename:\n",
    "        print('Selected:', filename)\n",
    "        tk.messagebox.showinfo(title=\"Status\", message=\"Press 'OK' and DRAP the pointer where to stick the QR-Code and press Enter\")\n",
    "        global roi_position, dim\n",
    "        roi_position = []\n",
    "        dim = []\n",
    "        roi_position, dim = draw_roi(filename)\n",
    "        fileisloaded = True\n",
    "        return filename\n",
    "    else:\n",
    "        print('No file is loaded')\n",
    "        fileisloaded = False\n",
    "    return None"
   ]
  },
  {
   "cell_type": "code",
   "execution_count": null,
   "metadata": {},
   "outputs": [],
   "source": [
    "def CreateRandomTrackingNumber(start, stop, totalsample, startstring):\n",
    "    '''String is the code for the contract and manufacturer company's name.\n",
    "    strat and stop is the range of numbers we want to have codes.\n",
    "    TotalSample is the number of QR code we want to create.'''\n",
    "    start = 1000\n",
    "    stop = 9999\n",
    "    data = []\n",
    "    rnd = np.random.choice(range(start, stop), totalsample, replace=False)\n",
    "    for i in rnd:\n",
    "        data.append(startstring+str(i))\n",
    "    return data"
   ]
  },
  {
   "cell_type": "code",
   "execution_count": null,
   "metadata": {},
   "outputs": [],
   "source": [
    "def SaveTrackingAsExcel(data, address, contract, product):\n",
    "    '''#Data is the array of all tracking codes.\n",
    "    Address is the location we want to save the Excel file, must ends with / or \\.\n",
    "    Contract number as a string to add it in the file name.'''\n",
    "\n",
    "    path = address + contract + \"/\" + product\n",
    "    path = path.replace(' ', '_')\n",
    "    if not os.path.exists(path):\n",
    "        os.makedirs(path)\n",
    "    writer = pd.ExcelWriter(path + '/' + product + '.xlsx', engine='xlsxwriter')\n",
    "\n",
    "    # Change the Numpy format to Pandas format to save in Excel file\n",
    "    panda_dic = pd.DataFrame(data)\n",
    "    # Data is the Excel's Sheet name to save the data in.\n",
    "    panda_dic.to_excel(writer, 'Tracking')\n",
    "    writer.save()\n",
    "    return"
   ]
  },
  {
   "cell_type": "code",
   "execution_count": null,
   "metadata": {},
   "outputs": [],
   "source": [
    "def read_entries():\n",
    "    brand_name_input = brand_name.get()\n",
    "    brand_name_input = brand_name_input.strip().upper()\n",
    "\n",
    "    contract_number_input = contract_number.get()\n",
    "    contract_number_input = contract_number_input.strip().upper()\n",
    "\n",
    "    product_type_input = product_type.get()\n",
    "    product_type_input = product_type_input.strip().upper()\n",
    "\n",
    "    total_packs_input = total_packs.get()\n",
    "    initial_message_input = initial_message.get()\n",
    "\n",
    "    '''Date = datetime.today().strftime('%Y-%m-%d-%H:%M:%S')'''\n",
    "\n",
    "    data_entry = pd.DataFrame(\n",
    "        {'Company': brand_name_input, 'Product': product_type_input,\n",
    "         'Contractnumber': contract_number_input,\n",
    "         'Totalpacks': float(total_packs_input), 'Message': initial_message_input}, index=[0])\n",
    "\n",
    "    return data_entry"
   ]
  },
  {
   "cell_type": "code",
   "execution_count": null,
   "metadata": {},
   "outputs": [],
   "source": [
    "def SimpleCreateQRCodes(data, message, destination_address):\n",
    "    path = destination_address + \"/QRCODES\"\n",
    "    if not os.path.exists(path):\n",
    "        os.makedirs(path)\n",
    "    for i in data:\n",
    "        message2 = \"\"\n",
    "        message2 = message + i\n",
    "        QRCode = qrcode.make(message2)\n",
    "        QRCode.save(path + \"/\" + i + \".png\")\n",
    "\n",
    "    return path, destination_address"
   ]
  },
  {
   "cell_type": "code",
   "execution_count": null,
   "metadata": {},
   "outputs": [],
   "source": [
    "def generate_final_labels(path_QrCodes, destination_address):\n",
    "    path_final = destination_address + \"/Final_Labels\"\n",
    "    if not os.path.exists(path_final):\n",
    "        os.makedirs(path_final)\n",
    "\n",
    "    onlyfiles = [f for f in listdir(path_QrCodes) if isfile(join(path_QrCodes, f))]\n",
    "    print(onlyfiles)\n",
    "    label_template = Image.open(filename)\n",
    "    counter = 0\n",
    "    lp = len(dim) + 1 # To make sure the the internal counter covers all the dimensions ROIs.\n",
    "    label_template_copy = label_template.copy()\n",
    "    for file in onlyfiles:\n",
    "        counter += 1\n",
    "        if counter % lp != 0:\n",
    "            qr_code = Image.open(path_QrCodes + \"/\" + file)\n",
    "            qr_code = qr_code.resize((dim[counter-1], dim[counter-1]))\n",
    "            label_template_copy.paste(qr_code, (round(roi_position[counter-1][0]), round(roi_position[counter-1][1]))\n",
    "        else:\n",
    "            label_template_copy.save(path_final + \"/\" + file.split('.')[0] + \".jpg\")\n",
    "            label_template_copy = label_template.copy()\n",
    "    label_template_copy.save(path_final + \"/\" + file.split('.')[0] + \".jpg\") # To save the lastest qrcodes that are not saved yet."
   ]
  },
  {
   "cell_type": "code",
   "execution_count": null,
   "metadata": {},
   "outputs": [],
   "source": [
    "def produce_labels():\n",
    "    if fileisloaded:\n",
    "        data = read_entries()\n",
    "        print(data)\n",
    "        packs = int(data.Totalpacks) + 10\n",
    "        print(packs)\n",
    "        start_string = data.Company[0] + \"-\" + data.Contractnumber[0] + \"-\" + data.Product[0] + \"-\"\n",
    "        start_string = start_string.replace(' ', '_')\n",
    "        print(start_string)\n",
    "        start = 1000\n",
    "        stop = 5 * packs\n",
    "        tracking_numbers = CreateRandomTrackingNumber(start, stop, packs, start_string)\n",
    "        SaveTrackingAsExcel(tracking_numbers, \"generated/\", data.Contractnumber[0], data.Product[0])\n",
    "        message = data.Message[0]\n",
    "        address = \"generated/\" + data.Contractnumber[0] + \"/\" + data.Product[0]\n",
    "        address = address.replace(' ', '_')\n",
    "        path, destination_address = SimpleCreateQRCodes(tracking_numbers, message, address)\n",
    "        generate_final_labels(path, destination_address)\n",
    "        tk.messagebox.showinfo(title=\"Status\", message=\"Total Labels are Generated\")\n",
    "    else:\n",
    "        tk.messagebox.showinfo(title=\"Status\", message=\"Please upload a template\")\n",
    "\n",
    "\n",
    "''' Generate extra 10 pcs of labels to cover damaged ones'''\n"
   ]
  },
  {
   "cell_type": "code",
   "execution_count": null,
   "metadata": {},
   "outputs": [],
   "source": [
    "def load_main_window():\n",
    "    global win, brand_name, contract_number, product_type, total_packs, initial_message\n",
    "\n",
    "    win = tk.Tk()\n",
    "    win.geometry(\"300x200\")\n",
    "    win.title(\"The Label Generator\")\n",
    "\n",
    "\n",
    "    label1 = tk.Label(win, text=\"Your Brand\", anchor='w')\n",
    "    brand_name = tk.Entry(win)\n",
    "    brand_name.insert(0, \"BrandName\")\n",
    "\n",
    "    label2 = tk.Label(win, text=\"Contract Number\", anchor='w')\n",
    "    contract_number = tk.Entry(win)\n",
    "    contract_number.insert(0, \"C5360NJF\")\n",
    "\n",
    "    label3 = tk.Label(win, text=\"Product\", anchor='w')\n",
    "    product_type = tk.StringVar(win)\n",
    "    product_type.set(\"Choose\") # default value\n",
    "    '''Adding the \"*\" was a key solution to make the list vertical for the OptionMenu'''\n",
    "    product_type_menu = tk.OptionMenu(win, product_type, *product_list)\n",
    "\n",
    "    label4 = tk.Label(win, text=\"Total Packs\", anchor='w')\n",
    "    total_packs = tk.Entry(win)\n",
    "    total_packs.insert(0, \"500\")\n",
    "\n",
    "    label5 = tk.Label(win, text=\"Upload the template\", anchor='w')\n",
    "\n",
    "    label6 = tk.Label(win, text=\"Initial message\")\n",
    "    initial_message = tk.Entry(win)\n",
    "    initial_message.insert(0, \"www.taher-co.com\\checker?item=\")\n",
    "\n",
    "    button = tk.Button(win, text='Open', command=UploadAction)\n",
    "\n",
    "    button_generate = tk.Button(win, text=\"Generate\", bg=\"green\", fg=\"white\", command=produce_labels)\n",
    "\n",
    "    '''define the positions'''\n",
    "\n",
    "    label1.grid(row=1, column=0)\n",
    "    label2.grid(row=2, column=0)\n",
    "    label3.grid(row=3, column=0)\n",
    "    label4.grid(row=4, column=0)\n",
    "    label5.grid(row=5, column=0)\n",
    "    label6.grid(row=6, column=0)\n",
    "\n",
    "\n",
    "    brand_name.grid(row=1, column=1)\n",
    "    contract_number.grid(row=2, column=1)\n",
    "    product_type_menu.grid(row=3, column=1)\n",
    "    total_packs.grid(row=4, column=1)\n",
    "    button.grid(row=5, column=1)\n",
    "    initial_message.grid(row=6, column=1)\n",
    "    button_generate.grid(row=7, column=1)\n",
    "\n",
    "\n",
    "    win.mainloop()\n",
    "    return"
   ]
  },
  {
   "cell_type": "code",
   "execution_count": null,
   "metadata": {},
   "outputs": [],
   "source": [
    "product_list = ['PISTACHIO INSHELL', 'PISTACHIOS KERNEL', 'DRIED FIGS', 'RAISINS', 'SUNFLOWER SEED']\n",
    "global fileisloaded\n",
    "fileisloaded = False\n",
    "\n",
    "load_main_window()"
   ]
  },
  {
   "cell_type": "code",
   "execution_count": null,
   "metadata": {},
   "outputs": [],
   "source": []
  },
  {
   "cell_type": "code",
   "execution_count": 9,
   "metadata": {},
   "outputs": [],
   "source": []
  },
  {
   "cell_type": "code",
   "execution_count": 10,
   "metadata": {},
   "outputs": [],
   "source": [
    "QRCode = qrcode.make('This is a sample QR-Code for the template')\n",
    "QRCode.save(\"sample.png\")"
   ]
  },
  {
   "cell_type": "code",
   "execution_count": 16,
   "metadata": {},
   "outputs": [],
   "source": []
  },
  {
   "cell_type": "code",
   "execution_count": 66,
   "metadata": {},
   "outputs": [
    {
     "name": "stdout",
     "output_type": "stream",
     "text": [
      "ROI Position is: [[ 229  113   87   81]\n",
      " [ 226  349   98   75]\n",
      " [ 240  586   73   77]\n",
      " [ 237  816   82   84]\n",
      " [ 235 1051   83   80]]\n",
      "original ROI Position is: [[ 654.28571429  322.85714286  248.57142857  231.42857143]\n",
      " [ 645.71428571  997.14285714  280.          214.28571429]\n",
      " [ 685.71428571 1674.28571429  208.57142857  220.        ]\n",
      " [ 677.14285714 2331.42857143  234.28571429  240.        ]\n",
      " [ 671.42857143 3002.85714286  237.14285714  228.57142857]]\n",
      "77\n"
     ]
    }
   ],
   "source": [
    "img = cv.imread('lots.jpg') # read the template. \n",
    "scale_percent = 35 # percent of original size which can get it from the GUI\n",
    "width = int(img.shape[1] * scale_percent / 100)\n",
    "height = int(img.shape[0] * scale_percent / 100)\n",
    "dim = (width, height)\n",
    "# resize image\n",
    "resized = cv.resize(img, dim, interpolation = cv.INTER_AREA)\n",
    "\n",
    "roi_position = cv.selectROIs(\"Selece Locations\",resized)\n",
    "cv.destroyAllWindows()\n",
    "dim = []\n",
    "roi_position = roi_position * 100 / scale_percent\n",
    "for i in range(0, len(roi_position)):\n",
    "    dim.append(round(max([roi_position[i][2], roi_position[i][3]])))\n",
    "print(\"ROI Position is: {}\".format(roi_position))\n",
    "print(dim)"
   ]
  },
  {
   "cell_type": "code",
   "execution_count": 18,
   "metadata": {},
   "outputs": [
    {
     "data": {
      "text/plain": [
       "array([[ 243,  115,   74,   81],\n",
       "       [ 247,  355,   70,   75],\n",
       "       [ 240,  581,   71,   81],\n",
       "       [ 235,  822,   72,   85],\n",
       "       [ 235, 1056,   78,   82]], dtype=int32)"
      ]
     },
     "execution_count": 18,
     "metadata": {},
     "output_type": "execute_result"
    }
   ],
   "source": [
    "roi_position"
   ]
  },
  {
   "cell_type": "code",
   "execution_count": 22,
   "metadata": {},
   "outputs": [
    {
     "ename": "TypeError",
     "evalue": "only size-1 arrays can be converted to Python scalars",
     "output_type": "error",
     "traceback": [
      "\u001b[1;31m---------------------------------------------------------------------------\u001b[0m",
      "\u001b[1;31mTypeError\u001b[0m                                 Traceback (most recent call last)",
      "\u001b[1;32m<ipython-input-22-c107ca12d961>\u001b[0m in \u001b[0;36m<module>\u001b[1;34m\u001b[0m\n\u001b[1;32m----> 1\u001b[1;33m \u001b[0mint\u001b[0m\u001b[1;33m(\u001b[0m\u001b[0mroi_position\u001b[0m\u001b[1;33m[\u001b[0m\u001b[1;36m0\u001b[0m\u001b[1;33m]\u001b[0m\u001b[1;33m*\u001b[0m\u001b[1;36m0.5\u001b[0m\u001b[1;33m)\u001b[0m\u001b[1;33m\u001b[0m\u001b[1;33m\u001b[0m\u001b[0m\n\u001b[0m",
      "\u001b[1;31mTypeError\u001b[0m: only size-1 arrays can be converted to Python scalars"
     ]
    }
   ],
   "source": [
    "int(roi_position[0]*0.5)"
   ]
  },
  {
   "cell_type": "code",
   "execution_count": 38,
   "metadata": {},
   "outputs": [
    {
     "name": "stdout",
     "output_type": "stream",
     "text": [
      "original ROI Position is: [[ 685.71428571  322.85714286  220.          220.        ]\n",
      " [ 682.85714286  980.          217.14285714  242.85714286]\n",
      " [ 680.         1657.14285714  220.          242.85714286]\n",
      " [ 682.85714286 2322.85714286  205.71428571  260.        ]\n",
      " [ 682.85714286 3014.28571429  208.57142857  231.42857143]]\n"
     ]
    }
   ],
   "source": [
    "    print(\"original ROI Position is: {}\".format(original))"
   ]
  },
  {
   "cell_type": "code",
   "execution_count": 29,
   "metadata": {},
   "outputs": [
    {
     "data": {
      "text/plain": [
       "85"
      ]
     },
     "execution_count": 29,
     "metadata": {},
     "output_type": "execute_result"
    }
   ],
   "source": [
    "dim"
   ]
  },
  {
   "cell_type": "code",
   "execution_count": 50,
   "metadata": {},
   "outputs": [
    {
     "data": {
      "text/plain": [
       "5"
      ]
     },
     "execution_count": 50,
     "metadata": {},
     "output_type": "execute_result"
    }
   ],
   "source": [
    "len(original)"
   ]
  },
  {
   "cell_type": "code",
   "execution_count": 59,
   "metadata": {},
   "outputs": [],
   "source": [
    "dim = []\n",
    "for i in range(0, len(original)):\n",
    "    dim.append(round(max([original[i][2], original[i][3]])))"
   ]
  },
  {
   "cell_type": "code",
   "execution_count": 52,
   "metadata": {},
   "outputs": [
    {
     "data": {
      "text/plain": [
       "225.71428571428572"
      ]
     },
     "execution_count": 52,
     "metadata": {},
     "output_type": "execute_result"
    }
   ],
   "source": [
    "max([original[4][2], original[4][3]])"
   ]
  },
  {
   "cell_type": "code",
   "execution_count": 40,
   "metadata": {},
   "outputs": [
    {
     "data": {
      "text/plain": [
       "242.85714285714286"
      ]
     },
     "execution_count": 40,
     "metadata": {},
     "output_type": "execute_result"
    }
   ],
   "source": [
    "dim"
   ]
  },
  {
   "cell_type": "code",
   "execution_count": 41,
   "metadata": {},
   "outputs": [
    {
     "data": {
      "text/plain": [
       "243"
      ]
     },
     "execution_count": 41,
     "metadata": {},
     "output_type": "execute_result"
    }
   ],
   "source": [
    "round(dim)"
   ]
  },
  {
   "cell_type": "code",
   "execution_count": 51,
   "metadata": {},
   "outputs": [
    {
     "data": {
      "text/plain": [
       "array([[ 657.14285714,  331.42857143,  240.        ,  225.71428571],\n",
       "       [ 668.57142857,  977.14285714,  240.        ,  254.28571429],\n",
       "       [ 674.28571429, 1657.14285714,  220.        ,  240.        ],\n",
       "       [ 668.57142857, 2340.        ,  240.        ,  237.14285714],\n",
       "       [ 674.28571429, 3011.42857143,  214.28571429,  225.71428571]])"
      ]
     },
     "execution_count": 51,
     "metadata": {},
     "output_type": "execute_result"
    }
   ],
   "source": [
    "original"
   ]
  },
  {
   "cell_type": "code",
   "execution_count": 56,
   "metadata": {},
   "outputs": [],
   "source": [
    "i = 0 \n",
    "dim = max([original[i][2], original[i][3]])"
   ]
  },
  {
   "cell_type": "code",
   "execution_count": 68,
   "metadata": {},
   "outputs": [
    {
     "data": {
      "text/plain": [
       "77"
      ]
     },
     "execution_count": 68,
     "metadata": {},
     "output_type": "execute_result"
    }
   ],
   "source": [
    "dim"
   ]
  },
  {
   "cell_type": "code",
   "execution_count": 73,
   "metadata": {},
   "outputs": [
    {
     "name": "stdout",
     "output_type": "stream",
     "text": [
      "hello\n"
     ]
    }
   ],
   "source": [
    "if dim % 7 == 0:\n",
    "    print('hello')"
   ]
  },
  {
   "cell_type": "code",
   "execution_count": 78,
   "metadata": {},
   "outputs": [
    {
     "data": {
      "text/plain": [
       "654"
      ]
     },
     "execution_count": 78,
     "metadata": {},
     "output_type": "execute_result"
    }
   ],
   "source": [
    "round(original[0][0])"
   ]
  },
  {
   "cell_type": "code",
   "execution_count": 79,
   "metadata": {},
   "outputs": [
    {
     "name": "stdout",
     "output_type": "stream",
     "text": [
      "0\n",
      "1\n",
      "2\n",
      "3\n",
      "4\n"
     ]
    }
   ],
   "source": [
    "for i in range(0, 5):\n",
    "    print(i)"
   ]
  },
  {
   "cell_type": "code",
   "execution_count": 84,
   "metadata": {},
   "outputs": [
    {
     "name": "stdout",
     "output_type": "stream",
     "text": [
      "counter =  1\n",
      "j is =  0\n",
      "Lot is paste\n",
      "counter =  2\n",
      "j is =  1\n",
      "Lot is paste\n",
      "counter =  3\n",
      "j is =  2\n",
      "Lot is paste\n",
      "counter =  4\n",
      "j is =  3\n",
      "Lot is paste\n",
      "counter =  5\n",
      "j is =  4\n",
      "File is saved\n",
      "File_Counter is:  5\n",
      "modified j is:  3\n",
      "counter =  1\n",
      "j is =  5\n",
      "Lot is paste\n",
      "counter =  2\n",
      "j is =  6\n",
      "Lot is paste\n",
      "counter =  3\n",
      "j is =  7\n",
      "Lot is paste\n",
      "counter =  4\n",
      "j is =  8\n",
      "Lot is paste\n",
      "counter =  5\n",
      "j is =  9\n",
      "File is saved\n",
      "File_Counter is:  10\n",
      "modified j is:  8\n",
      "counter =  1\n",
      "j is =  10\n",
      "Lot is paste\n",
      "counter =  2\n",
      "j is =  11\n",
      "Lot is paste\n",
      "counter =  3\n",
      "j is =  12\n",
      "Lot is paste\n",
      "counter =  4\n",
      "j is =  13\n",
      "Lot is paste\n",
      "counter =  5\n",
      "j is =  14\n",
      "File is saved\n",
      "File_Counter is:  15\n",
      "modified j is:  13\n",
      "counter =  1\n",
      "j is =  15\n",
      "Lot is paste\n",
      "counter =  2\n",
      "j is =  16\n",
      "Lot is paste\n",
      "counter =  3\n",
      "j is =  17\n",
      "Lot is paste\n",
      "counter =  4\n",
      "j is =  18\n",
      "Lot is paste\n",
      "counter =  5\n",
      "j is =  19\n",
      "File is saved\n",
      "File_Counter is:  20\n",
      "modified j is:  18\n",
      "counter =  1\n",
      "j is =  20\n",
      "Lot is paste\n",
      "counter =  2\n",
      "j is =  21\n",
      "Lot is paste\n",
      "counter =  3\n",
      "j is =  22\n",
      "Lot is paste\n",
      "counter =  4\n",
      "j is =  23\n",
      "Lot is paste\n",
      "counter =  5\n",
      "j is =  24\n",
      "File is saved\n",
      "File_Counter is:  25\n",
      "modified j is:  23\n",
      "counter =  1\n",
      "j is =  25\n",
      "Lot is paste\n",
      "counter =  2\n",
      "j is =  26\n",
      "Lot is paste\n",
      "counter =  3\n",
      "j is =  27\n",
      "Lot is paste\n",
      "counter =  4\n",
      "j is =  28\n",
      "Lot is paste\n",
      "counter =  5\n",
      "j is =  29\n",
      "File is saved\n",
      "File_Counter is:  30\n",
      "modified j is:  28\n",
      "counter =  1\n",
      "j is =  30\n",
      "Lot is paste\n",
      "counter =  2\n",
      "j is =  31\n",
      "Lot is paste\n",
      "counter =  3\n",
      "j is =  32\n",
      "Lot is paste\n",
      "counter =  4\n",
      "j is =  33\n",
      "Lot is paste\n",
      "counter =  5\n",
      "j is =  34\n",
      "File is saved\n",
      "File_Counter is:  35\n",
      "modified j is:  33\n",
      "counter =  1\n",
      "j is =  35\n",
      "Lot is paste\n",
      "counter =  2\n",
      "j is =  36\n",
      "Lot is paste\n",
      "counter =  3\n",
      "j is =  37\n",
      "Lot is paste\n",
      "counter =  4\n",
      "j is =  38\n",
      "Lot is paste\n",
      "counter =  5\n",
      "j is =  39\n",
      "File is saved\n",
      "File_Counter is:  40\n",
      "modified j is:  38\n",
      "counter =  1\n",
      "j is =  40\n",
      "Lot is paste\n",
      "counter =  2\n",
      "j is =  41\n",
      "Lot is paste\n",
      "counter =  3\n",
      "j is =  42\n",
      "Lot is paste\n",
      "counter =  4\n",
      "j is =  43\n",
      "Lot is paste\n",
      "counter =  5\n",
      "j is =  44\n",
      "File is saved\n",
      "File_Counter is:  45\n",
      "modified j is:  43\n",
      "counter =  1\n",
      "j is =  45\n",
      "Lot is paste\n",
      "counter =  2\n",
      "j is =  46\n",
      "Lot is paste\n",
      "counter =  3\n",
      "j is =  47\n",
      "Lot is paste\n",
      "counter =  4\n",
      "j is =  48\n",
      "Lot is paste\n",
      "counter =  5\n",
      "j is =  49\n",
      "File is saved\n",
      "File_Counter is:  50\n",
      "modified j is:  48\n",
      "counter =  1\n",
      "j is =  50\n",
      "Lot is paste\n",
      "counter =  2\n",
      "j is =  51\n",
      "Lot is paste\n",
      "counter =  3\n",
      "j is =  52\n",
      "Lot is paste\n",
      "counter =  4\n",
      "j is =  53\n",
      "Lot is paste\n",
      "counter =  5\n",
      "j is =  54\n",
      "File is saved\n",
      "File_Counter is:  55\n",
      "modified j is:  53\n",
      "counter =  1\n",
      "j is =  55\n",
      "Lot is paste\n",
      "counter =  2\n",
      "j is =  56\n",
      "Lot is paste\n",
      "counter =  3\n",
      "j is =  57\n",
      "Lot is paste\n",
      "counter =  4\n",
      "j is =  58\n",
      "Lot is paste\n",
      "counter =  5\n",
      "j is =  59\n",
      "File is saved\n",
      "File_Counter is:  60\n",
      "modified j is:  58\n",
      "counter =  1\n",
      "j is =  60\n",
      "Lot is paste\n",
      "counter =  2\n",
      "j is =  61\n",
      "Lot is paste\n",
      "counter =  3\n",
      "j is =  62\n",
      "Lot is paste\n",
      "counter =  4\n",
      "j is =  63\n",
      "Lot is paste\n",
      "counter =  5\n",
      "j is =  64\n",
      "File is saved\n",
      "File_Counter is:  65\n",
      "modified j is:  63\n",
      "counter =  1\n",
      "j is =  65\n",
      "Lot is paste\n",
      "counter =  2\n",
      "j is =  66\n",
      "Lot is paste\n",
      "counter =  3\n",
      "j is =  67\n",
      "Lot is paste\n",
      "counter =  4\n",
      "j is =  68\n",
      "Lot is paste\n",
      "counter =  5\n",
      "j is =  69\n",
      "File is saved\n",
      "File_Counter is:  70\n",
      "modified j is:  68\n",
      "counter =  1\n",
      "j is =  70\n",
      "Lot is paste\n",
      "counter =  2\n",
      "j is =  71\n",
      "Lot is paste\n",
      "counter =  3\n",
      "j is =  72\n",
      "Lot is paste\n",
      "counter =  4\n",
      "j is =  73\n",
      "Lot is paste\n",
      "counter =  5\n",
      "j is =  74\n",
      "File is saved\n",
      "File_Counter is:  75\n",
      "modified j is:  73\n",
      "counter =  1\n",
      "j is =  75\n",
      "Lot is paste\n",
      "counter =  2\n",
      "j is =  76\n",
      "Lot is paste\n",
      "counter =  3\n",
      "j is =  77\n",
      "Lot is paste\n",
      "counter =  4\n",
      "j is =  78\n",
      "Lot is paste\n",
      "counter =  5\n",
      "j is =  79\n",
      "File is saved\n",
      "File_Counter is:  80\n",
      "modified j is:  78\n",
      "counter =  1\n",
      "j is =  80\n",
      "Lot is paste\n",
      "counter =  2\n",
      "j is =  81\n",
      "Lot is paste\n",
      "counter =  3\n",
      "j is =  82\n",
      "Lot is paste\n",
      "counter =  4\n",
      "j is =  83\n",
      "Lot is paste\n",
      "counter =  5\n",
      "j is =  84\n",
      "File is saved\n",
      "File_Counter is:  85\n",
      "modified j is:  83\n",
      "counter =  1\n",
      "j is =  85\n",
      "Lot is paste\n",
      "counter =  2\n",
      "j is =  86\n",
      "Lot is paste\n",
      "counter =  3\n",
      "j is =  87\n",
      "Lot is paste\n",
      "counter =  4\n",
      "j is =  88\n",
      "Lot is paste\n",
      "counter =  5\n",
      "j is =  89\n",
      "File is saved\n",
      "File_Counter is:  90\n",
      "modified j is:  88\n",
      "counter =  1\n",
      "j is =  90\n",
      "Lot is paste\n",
      "counter =  2\n",
      "j is =  91\n",
      "Lot is paste\n",
      "counter =  3\n",
      "j is =  92\n",
      "Lot is paste\n",
      "counter =  4\n",
      "j is =  93\n",
      "Lot is paste\n",
      "counter =  5\n",
      "j is =  94\n",
      "File is saved\n",
      "File_Counter is:  95\n",
      "modified j is:  93\n",
      "counter =  1\n",
      "j is =  95\n",
      "Lot is paste\n",
      "counter =  2\n",
      "j is =  96\n",
      "Lot is paste\n",
      "counter =  3\n",
      "j is =  97\n",
      "Lot is paste\n",
      "counter =  4\n",
      "j is =  98\n",
      "Lot is paste\n",
      "counter =  5\n",
      "j is =  99\n",
      "File is saved\n",
      "File_Counter is:  100\n",
      "modified j is:  98\n",
      "counter =  1\n",
      "j is =  100\n",
      "Lot is paste\n",
      "counter =  2\n",
      "j is =  101\n",
      "Lot is paste\n",
      "counter =  3\n",
      "j is =  102\n",
      "Lot is paste\n",
      "counter =  4\n",
      "j is =  103\n",
      "Lot is paste\n",
      "counter =  5\n",
      "j is =  104\n",
      "File is saved\n",
      "File_Counter is:  105\n",
      "modified j is:  103\n",
      "counter =  1\n",
      "j is =  105\n",
      "Lot is paste\n",
      "counter =  2\n",
      "j is =  106\n",
      "Lot is paste\n",
      "counter =  3\n",
      "j is =  107\n",
      "Lot is paste\n",
      "counter =  4\n",
      "j is =  108\n",
      "Lot is paste\n",
      "counter =  5\n",
      "j is =  109\n",
      "File is saved\n",
      "File_Counter is:  110\n",
      "modified j is:  108\n",
      "counter =  1\n",
      "j is =  110\n",
      "Lot is paste\n",
      "counter =  2\n",
      "j is =  111\n",
      "Lot is paste\n",
      "counter =  3\n",
      "j is =  112\n",
      "Lot is paste\n",
      "counter =  4\n",
      "j is =  113\n",
      "Lot is paste\n",
      "counter =  5\n",
      "j is =  114\n",
      "File is saved\n",
      "File_Counter is:  115\n",
      "modified j is:  113\n",
      "counter =  1\n",
      "j is =  115\n",
      "Lot is paste\n",
      "counter =  2\n",
      "j is =  116\n",
      "Lot is paste\n",
      "counter =  3\n",
      "j is =  117\n",
      "Lot is paste\n",
      "counter =  4\n",
      "j is =  118\n",
      "Lot is paste\n",
      "counter =  5\n",
      "j is =  119\n",
      "File is saved\n",
      "File_Counter is:  120\n",
      "modified j is:  118\n"
     ]
    }
   ],
   "source": [
    "    counter = 0\n",
    "    file_counter = 0\n",
    "    lp = 4 + 1\n",
    "    for j in range(0, 120):\n",
    "        counter += 1\n",
    "        file_counter += 1\n",
    "        print('counter = ', counter)\n",
    "        print('j is = ', j)\n",
    "        if counter % lp != 0:\n",
    "            print('Lot is paste')\n",
    "\n",
    "        else:\n",
    "            print('File is saved')\n",
    "            counter = 0\n",
    "            print('File_Counter is: ', file_counter)\n",
    "            j -= 1\n",
    "            print('modified j is: ', j)"
   ]
  },
  {
   "cell_type": "code",
   "execution_count": null,
   "metadata": {},
   "outputs": [],
   "source": []
  }
 ],
 "metadata": {
  "kernelspec": {
   "display_name": "Python 3",
   "language": "python",
   "name": "python3"
  },
  "language_info": {
   "codemirror_mode": {
    "name": "ipython",
    "version": 3
   },
   "file_extension": ".py",
   "mimetype": "text/x-python",
   "name": "python",
   "nbconvert_exporter": "python",
   "pygments_lexer": "ipython3",
   "version": "3.7.7"
  }
 },
 "nbformat": 4,
 "nbformat_minor": 4
}
